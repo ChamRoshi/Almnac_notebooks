{
 "cells": [
  {
   "cell_type": "markdown",
   "metadata": {},
   "source": [
    "# When Will X's Next Album Be Released?\n",
    "\n",
    "## Assumption\n",
    "* Distance between albums is poisson distributed\n",
    "* based on https://youtu.be/HTZaoK_h1A8?t=1451\n",
    "\n",
    "## Progressions\n",
    "* Time trend in distance between albums"
   ]
  },
  {
   "cell_type": "markdown",
   "metadata": {},
   "source": [
    "## Data Pull"
   ]
  },
  {
   "cell_type": "code",
   "execution_count": 1,
   "metadata": {},
   "outputs": [],
   "source": [
    "x = \"Bruce_Springsteen\"\n",
    "# x = \"Taylor_Swift\"\n",
    "x = \"Enter_Shikari\""
   ]
  },
  {
   "cell_type": "code",
   "execution_count": 2,
   "metadata": {},
   "outputs": [],
   "source": [
    "url = f\"https://en.wikipedia.org/wiki/{x}_discography\"\n",
    "\n",
    "\n",
    "dfs = pd.read_html(url)"
   ]
  },
  {
   "cell_type": "code",
   "execution_count": 3,
   "metadata": {},
   "outputs": [],
   "source": [
    "df = dfs[1]\n",
    "df.drop(df.tail(1).index, inplace=True)\n",
    "df.columns = df.columns.droplevel()\n",
    "\n",
    "try:\n",
    "    df = df.rename(columns={\"Details\": \"Album details\"})\n",
    "except Exception as e:\n",
    "    print(e)"
   ]
  },
  {
   "cell_type": "code",
   "execution_count": 4,
   "metadata": {},
   "outputs": [
    {
     "data": {
      "text/html": [
       "<div>\n",
       "<style scoped>\n",
       "    .dataframe tbody tr th:only-of-type {\n",
       "        vertical-align: middle;\n",
       "    }\n",
       "\n",
       "    .dataframe tbody tr th {\n",
       "        vertical-align: top;\n",
       "    }\n",
       "\n",
       "    .dataframe thead th {\n",
       "        text-align: right;\n",
       "    }\n",
       "</style>\n",
       "<table border=\"1\" class=\"dataframe\">\n",
       "  <thead>\n",
       "    <tr style=\"text-align: right;\">\n",
       "      <th></th>\n",
       "      <th>Title</th>\n",
       "      <th>Album details</th>\n",
       "      <th>UK[1]</th>\n",
       "      <th>UK Rock[2]</th>\n",
       "      <th>UKIndie[3]</th>\n",
       "      <th>AUS[4]</th>\n",
       "      <th>BEL[5]</th>\n",
       "      <th>GER[6]</th>\n",
       "      <th>IRL[7]</th>\n",
       "      <th>JPN[8]</th>\n",
       "      <th>NLD[9]</th>\n",
       "      <th>SCO[10]</th>\n",
       "      <th>US[11]</th>\n",
       "      <th>Certifications</th>\n",
       "      <th>Release_date</th>\n",
       "      <th>album_delta</th>\n",
       "      <th>counts</th>\n",
       "    </tr>\n",
       "  </thead>\n",
       "  <tbody>\n",
       "    <tr>\n",
       "      <th>0</th>\n",
       "      <td>Take to the Skies</td>\n",
       "      <td>Released: 19 March 2007 Label: Ambush Reality ...</td>\n",
       "      <td>4</td>\n",
       "      <td>1</td>\n",
       "      <td>1</td>\n",
       "      <td>—</td>\n",
       "      <td>89</td>\n",
       "      <td>93</td>\n",
       "      <td>26</td>\n",
       "      <td>31</td>\n",
       "      <td>—</td>\n",
       "      <td>6</td>\n",
       "      <td>—</td>\n",
       "      <td>BPI: Gold[12]</td>\n",
       "      <td>2007-03-19</td>\n",
       "      <td>nan</td>\n",
       "      <td>1</td>\n",
       "    </tr>\n",
       "    <tr>\n",
       "      <th>1</th>\n",
       "      <td>Common Dreads</td>\n",
       "      <td>Released: 15 June 2009 Label: Ambush Reality F...</td>\n",
       "      <td>16</td>\n",
       "      <td>—</td>\n",
       "      <td>—</td>\n",
       "      <td>55</td>\n",
       "      <td>94</td>\n",
       "      <td>96</td>\n",
       "      <td>—</td>\n",
       "      <td>77</td>\n",
       "      <td>—</td>\n",
       "      <td>22</td>\n",
       "      <td>—</td>\n",
       "      <td>BPI: Silver[13]</td>\n",
       "      <td>2009-06-15</td>\n",
       "      <td>819.00000</td>\n",
       "      <td>1</td>\n",
       "    </tr>\n",
       "    <tr>\n",
       "      <th>2</th>\n",
       "      <td>A Flash Flood of Colour</td>\n",
       "      <td>Released: 16 January 2012 Label: Ambush Realit...</td>\n",
       "      <td>4</td>\n",
       "      <td>1</td>\n",
       "      <td>2</td>\n",
       "      <td>32</td>\n",
       "      <td>42</td>\n",
       "      <td>23</td>\n",
       "      <td>69</td>\n",
       "      <td>81</td>\n",
       "      <td>74</td>\n",
       "      <td>3</td>\n",
       "      <td>67</td>\n",
       "      <td>BPI: Silver[13]</td>\n",
       "      <td>2012-01-16</td>\n",
       "      <td>945.00000</td>\n",
       "      <td>1</td>\n",
       "    </tr>\n",
       "    <tr>\n",
       "      <th>3</th>\n",
       "      <td>The Mindsweep</td>\n",
       "      <td>Released: 19 January 2015 Label: Ambush Realit...</td>\n",
       "      <td>6</td>\n",
       "      <td>2</td>\n",
       "      <td>1</td>\n",
       "      <td>19</td>\n",
       "      <td>68</td>\n",
       "      <td>17</td>\n",
       "      <td>59</td>\n",
       "      <td>142</td>\n",
       "      <td>26</td>\n",
       "      <td>8</td>\n",
       "      <td>166</td>\n",
       "      <td>NaN</td>\n",
       "      <td>2015-01-19</td>\n",
       "      <td>1099.00000</td>\n",
       "      <td>1</td>\n",
       "    </tr>\n",
       "    <tr>\n",
       "      <th>4</th>\n",
       "      <td>The Spark[14]</td>\n",
       "      <td>Released: 22 September 2017 Label: Ambush Real...</td>\n",
       "      <td>5</td>\n",
       "      <td>2</td>\n",
       "      <td>1</td>\n",
       "      <td>56</td>\n",
       "      <td>68</td>\n",
       "      <td>60</td>\n",
       "      <td>—</td>\n",
       "      <td>—</td>\n",
       "      <td>—</td>\n",
       "      <td>4</td>\n",
       "      <td>—</td>\n",
       "      <td>NaN</td>\n",
       "      <td>2017-09-22</td>\n",
       "      <td>977.00000</td>\n",
       "      <td>1</td>\n",
       "    </tr>\n",
       "    <tr>\n",
       "      <th>5</th>\n",
       "      <td>Nothing Is True &amp; Everything Is Possible[15]</td>\n",
       "      <td>Released: 17 April 2020 Label: SO Recordings, ...</td>\n",
       "      <td>2</td>\n",
       "      <td>1</td>\n",
       "      <td>2</td>\n",
       "      <td>—</td>\n",
       "      <td>80</td>\n",
       "      <td>35</td>\n",
       "      <td>—</td>\n",
       "      <td>—</td>\n",
       "      <td>—</td>\n",
       "      <td>2</td>\n",
       "      <td>—</td>\n",
       "      <td>NaN</td>\n",
       "      <td>2020-04-17</td>\n",
       "      <td>938.00000</td>\n",
       "      <td>1</td>\n",
       "    </tr>\n",
       "  </tbody>\n",
       "</table>\n",
       "</div>"
      ],
      "text/plain": [
       "                                          Title  \\\n",
       "0                             Take to the Skies   \n",
       "1                                 Common Dreads   \n",
       "2                       A Flash Flood of Colour   \n",
       "3                                 The Mindsweep   \n",
       "4                                 The Spark[14]   \n",
       "5  Nothing Is True & Everything Is Possible[15]   \n",
       "\n",
       "                                       Album details UK[1] UK Rock[2]  \\\n",
       "0  Released: 19 March 2007 Label: Ambush Reality ...     4          1   \n",
       "1  Released: 15 June 2009 Label: Ambush Reality F...    16          —   \n",
       "2  Released: 16 January 2012 Label: Ambush Realit...     4          1   \n",
       "3  Released: 19 January 2015 Label: Ambush Realit...     6          2   \n",
       "4  Released: 22 September 2017 Label: Ambush Real...     5          2   \n",
       "5  Released: 17 April 2020 Label: SO Recordings, ...     2          1   \n",
       "\n",
       "  UKIndie[3] AUS[4] BEL[5] GER[6] IRL[7] JPN[8] NLD[9] SCO[10] US[11]  \\\n",
       "0          1      —     89     93     26     31      —       6      —   \n",
       "1          —     55     94     96      —     77      —      22      —   \n",
       "2          2     32     42     23     69     81     74       3     67   \n",
       "3          1     19     68     17     59    142     26       8    166   \n",
       "4          1     56     68     60      —      —      —       4      —   \n",
       "5          2      —     80     35      —      —      —       2      —   \n",
       "\n",
       "    Certifications Release_date  album_delta  counts  \n",
       "0    BPI: Gold[12]   2007-03-19          nan       1  \n",
       "1  BPI: Silver[13]   2009-06-15    819.00000       1  \n",
       "2  BPI: Silver[13]   2012-01-16    945.00000       1  \n",
       "3              NaN   2015-01-19   1099.00000       1  \n",
       "4              NaN   2017-09-22    977.00000       1  \n",
       "5              NaN   2020-04-17    938.00000       1  "
      ]
     },
     "execution_count": 4,
     "metadata": {},
     "output_type": "execute_result"
    }
   ],
   "source": [
    "df[\"Release_date\"] = pd.to_datetime(\n",
    "    [\n",
    "        \" \".join(x.split(\":\")[1].split(\" \")[:4]).split(\"[\")[0]\n",
    "        for x in df[\"Album details\"]\n",
    "    ]\n",
    ")\n",
    "df[\"album_delta\"] = df[\"Release_date\"].diff().dt.days\n",
    "df[\"counts\"] = 1\n",
    "df"
   ]
  },
  {
   "cell_type": "code",
   "execution_count": 5,
   "metadata": {},
   "outputs": [],
   "source": [
    "df.index = pd.DatetimeIndex(df[\"Release_date\"])"
   ]
  },
  {
   "cell_type": "code",
   "execution_count": 6,
   "metadata": {},
   "outputs": [],
   "source": [
    "# dist_dif = df\n",
    "# date_range = pd.date_range(\n",
    "#     dist_dif[\"Release_date\"].min(), dist_dif[\"Release_date\"].max()\n",
    "# )\n",
    "# dist_dif.index = pd.DatetimeIndex(dist_dif[\"Release_date\"])\n",
    "# dist_dif = dist_dif.reindex(date_range, fill_value=0)\n",
    "# dist_dif"
   ]
  },
  {
   "cell_type": "markdown",
   "metadata": {},
   "source": [
    "## Data Modeling"
   ]
  },
  {
   "cell_type": "code",
   "execution_count": 7,
   "metadata": {},
   "outputs": [],
   "source": [
    "# dist_dif[\"counts\"].plot(style=\".\")"
   ]
  },
  {
   "cell_type": "markdown",
   "metadata": {},
   "source": [
    "### Adapting Coal mining example\n",
    "https://docs.pymc.io/notebooks/getting_started.html#Case-study-2:-Coal-mining-disasters"
   ]
  },
  {
   "cell_type": "markdown",
   "metadata": {},
   "source": [
    "x = dist_dif[\"counts\"].sum()  # number of events\n",
    "# lamda =\n",
    "t = (dist_dif.index.max() - dist_dif.index.min()).days  # rate parameter\n",
    "x, t"
   ]
  },
  {
   "cell_type": "markdown",
   "metadata": {},
   "source": [
    "with pm.Model() as album_model:\n",
    "    rate = pm.Exponential(\"album_rate\", 1)\n",
    "    albums = pm.Poisson(\"albums\", rate, observed=dist_dif[\"counts\"])\n",
    "\n",
    "    trace = pm.sample(1000)"
   ]
  },
  {
   "cell_type": "markdown",
   "metadata": {},
   "source": [
    "pm.traceplot(trace)"
   ]
  },
  {
   "cell_type": "markdown",
   "metadata": {},
   "source": [
    "cumulative_prob = []\n",
    "running_prob = 0\n",
    "for x in dist_dif[\"counts\"]:\n",
    "    if x == 1:\n",
    "        running_prob = 0\n",
    "    else:\n",
    "        running_prob += trace[\"album_rate\"].mean()\n",
    "\n",
    "    cumulative_prob.append(running_prob)"
   ]
  },
  {
   "cell_type": "markdown",
   "metadata": {},
   "source": [
    "dist_dif[\"prob\"] = cumulative_prob"
   ]
  },
  {
   "cell_type": "markdown",
   "metadata": {},
   "source": [
    "dist_dif[\"prob\"].plot()"
   ]
  },
  {
   "cell_type": "markdown",
   "metadata": {},
   "source": [
    "### Survival analysis "
   ]
  },
  {
   "cell_type": "code",
   "execution_count": 8,
   "metadata": {},
   "outputs": [
    {
     "data": {
      "text/plain": [
       "datetime.datetime(2020, 5, 12, 19, 41, 33, 552179)"
      ]
     },
     "execution_count": 8,
     "metadata": {},
     "output_type": "execute_result"
    }
   ],
   "source": [
    "pd.datetime.now()"
   ]
  },
  {
   "cell_type": "code",
   "execution_count": 9,
   "metadata": {},
   "outputs": [
    {
     "data": {
      "text/html": [
       "<div>\n",
       "<style scoped>\n",
       "    .dataframe tbody tr th:only-of-type {\n",
       "        vertical-align: middle;\n",
       "    }\n",
       "\n",
       "    .dataframe tbody tr th {\n",
       "        vertical-align: top;\n",
       "    }\n",
       "\n",
       "    .dataframe thead th {\n",
       "        text-align: right;\n",
       "    }\n",
       "</style>\n",
       "<table border=\"1\" class=\"dataframe\">\n",
       "  <thead>\n",
       "    <tr style=\"text-align: right;\">\n",
       "      <th></th>\n",
       "      <th>Release_date</th>\n",
       "      <th>album_delta</th>\n",
       "      <th>counts</th>\n",
       "    </tr>\n",
       "  </thead>\n",
       "  <tbody>\n",
       "    <tr>\n",
       "      <th>0</th>\n",
       "      <td>2009-06-15</td>\n",
       "      <td>819.00000</td>\n",
       "      <td>1</td>\n",
       "    </tr>\n",
       "    <tr>\n",
       "      <th>1</th>\n",
       "      <td>2012-01-16</td>\n",
       "      <td>945.00000</td>\n",
       "      <td>1</td>\n",
       "    </tr>\n",
       "    <tr>\n",
       "      <th>2</th>\n",
       "      <td>2015-01-19</td>\n",
       "      <td>1099.00000</td>\n",
       "      <td>1</td>\n",
       "    </tr>\n",
       "    <tr>\n",
       "      <th>3</th>\n",
       "      <td>2017-09-22</td>\n",
       "      <td>977.00000</td>\n",
       "      <td>1</td>\n",
       "    </tr>\n",
       "    <tr>\n",
       "      <th>4</th>\n",
       "      <td>2020-04-17</td>\n",
       "      <td>938.00000</td>\n",
       "      <td>1</td>\n",
       "    </tr>\n",
       "  </tbody>\n",
       "</table>\n",
       "</div>"
      ],
      "text/plain": [
       "  Release_date  album_delta  counts\n",
       "0   2009-06-15    819.00000       1\n",
       "1   2012-01-16    945.00000       1\n",
       "2   2015-01-19   1099.00000       1\n",
       "3   2017-09-22    977.00000       1\n",
       "4   2020-04-17    938.00000       1"
      ]
     },
     "execution_count": 9,
     "metadata": {},
     "output_type": "execute_result"
    }
   ],
   "source": [
    "sdf = df[[\"album_delta\", \"counts\"]].dropna().reset_index()\n",
    "sdf.head()"
   ]
  },
  {
   "cell_type": "code",
   "execution_count": 10,
   "metadata": {},
   "outputs": [
    {
     "data": {
      "text/html": [
       "<div>\n",
       "<style scoped>\n",
       "    .dataframe tbody tr th:only-of-type {\n",
       "        vertical-align: middle;\n",
       "    }\n",
       "\n",
       "    .dataframe tbody tr th {\n",
       "        vertical-align: top;\n",
       "    }\n",
       "\n",
       "    .dataframe thead th {\n",
       "        text-align: right;\n",
       "    }\n",
       "</style>\n",
       "<table border=\"1\" class=\"dataframe\">\n",
       "  <thead>\n",
       "    <tr style=\"text-align: right;\">\n",
       "      <th></th>\n",
       "      <th>Release_date</th>\n",
       "      <th>album_delta</th>\n",
       "      <th>counts</th>\n",
       "    </tr>\n",
       "  </thead>\n",
       "  <tbody>\n",
       "    <tr>\n",
       "      <th>0</th>\n",
       "      <td>2009-06-15</td>\n",
       "      <td>819.00000</td>\n",
       "      <td>1</td>\n",
       "    </tr>\n",
       "    <tr>\n",
       "      <th>1</th>\n",
       "      <td>2012-01-16</td>\n",
       "      <td>945.00000</td>\n",
       "      <td>1</td>\n",
       "    </tr>\n",
       "    <tr>\n",
       "      <th>2</th>\n",
       "      <td>2015-01-19</td>\n",
       "      <td>1099.00000</td>\n",
       "      <td>1</td>\n",
       "    </tr>\n",
       "    <tr>\n",
       "      <th>3</th>\n",
       "      <td>2017-09-22</td>\n",
       "      <td>977.00000</td>\n",
       "      <td>1</td>\n",
       "    </tr>\n",
       "    <tr>\n",
       "      <th>4</th>\n",
       "      <td>2020-04-17</td>\n",
       "      <td>938.00000</td>\n",
       "      <td>1</td>\n",
       "    </tr>\n",
       "  </tbody>\n",
       "</table>\n",
       "</div>"
      ],
      "text/plain": [
       "  Release_date  album_delta  counts\n",
       "0   2009-06-15    819.00000       1\n",
       "1   2012-01-16    945.00000       1\n",
       "2   2015-01-19   1099.00000       1\n",
       "3   2017-09-22    977.00000       1\n",
       "4   2020-04-17    938.00000       1"
      ]
     },
     "execution_count": 10,
     "metadata": {},
     "output_type": "execute_result"
    }
   ],
   "source": [
    "since = pd.DataFrame(\n",
    "    data=[\n",
    "        [pd.datetime.now()],\n",
    "        [(pd.datetime.now() - sdf[\"Release_date\"].max()).days],\n",
    "        [0],\n",
    "    ]\n",
    ").T\n",
    "current_days = (pd.datetime.now() - sdf[\"Release_date\"].max()).days\n",
    "since.columns = [\"Release_date\", \"album_delta\", \"counts\"]\n",
    "since\n",
    "# sdf = pd.concat([sdf, since])\n",
    "sdf = sdf[sdf[\"album_delta\"] > 0]\n",
    "sdf"
   ]
  },
  {
   "cell_type": "code",
   "execution_count": null,
   "metadata": {},
   "outputs": [],
   "source": []
  },
  {
   "cell_type": "markdown",
   "metadata": {},
   "source": [
    "n_patients = len(sdf)\n",
    "patients = np.arange(n_patients)\n",
    "fig, ax = plt.subplots(figsize=(8, 6))\n",
    "\n",
    "blue, _, red = sns.color_palette()[:3]\n",
    "\n",
    "ax.hlines(\n",
    "    patients[sdf.counts.values == 0],\n",
    "    0,\n",
    "    sdf[sdf.counts.values == 0].album_delta,\n",
    "    color=blue,\n",
    "    label=\"Censored\",\n",
    ")\n",
    "\n",
    "ax.hlines(\n",
    "    patients[sdf.counts.values == 1],\n",
    "    0,\n",
    "    sdf[sdf.counts.values == 1].album_delta,\n",
    "    color=red,\n",
    "    label=\"Uncensored\",\n",
    ")\n",
    "\n",
    "ax.scatter(\n",
    "    sdf[sdf.counts.values == 1].album_delta,\n",
    "    patients[sdf.counts.values == 1],\n",
    "    color=\"k\",\n",
    "    zorder=10,\n",
    "    label=\"Metastized\",\n",
    ")\n",
    "\n",
    "ax.set_xlim(left=0)\n",
    "ax.set_xlabel(\"Months since mastectomy\")\n",
    "ax.set_yticks([])\n",
    "ax.set_ylabel(\"Subject\")\n",
    "\n",
    "ax.set_ylim(-0.25, n_patients + 0.25)\n",
    "\n",
    "ax.legend(loc=\"center right\")"
   ]
  },
  {
   "cell_type": "markdown",
   "metadata": {},
   "source": [
    "interval_length = 1\n",
    "interval_bounds = np.arange(\n",
    "    0, sdf.album_delta.max() + interval_length + 1, interval_length\n",
    ")\n",
    "n_intervals = interval_bounds.size - 1\n",
    "intervals = np.arange(n_intervals)"
   ]
  },
  {
   "cell_type": "markdown",
   "metadata": {},
   "source": [
    "last_period = np.floor((sdf.album_delta - 0.01) / interval_length).astype(int)\n",
    "\n",
    "death = np.zeros((n_patients, n_intervals))\n",
    "death[patients, last_period] = df.counts"
   ]
  },
  {
   "cell_type": "markdown",
   "metadata": {},
   "source": [
    "exposure = (\n",
    "    np.greater_equal.outer(sdf.album_delta, interval_bounds[:-1]) * interval_length\n",
    ")"
   ]
  },
  {
   "cell_type": "markdown",
   "metadata": {},
   "source": [
    "exposure.shape"
   ]
  },
  {
   "cell_type": "markdown",
   "metadata": {},
   "source": [
    "exposure[patients, last_period] = sdf.album_delta - interval_bounds[last_period.values]"
   ]
  },
  {
   "cell_type": "markdown",
   "metadata": {},
   "source": [
    "SEED = 644567  # from random.org"
   ]
  },
  {
   "cell_type": "markdown",
   "metadata": {},
   "source": [
    "from theano import tensor as T"
   ]
  },
  {
   "cell_type": "markdown",
   "metadata": {},
   "source": [
    "with pm.Model() as model:\n",
    "\n",
    "    lambda0 = pm.Gamma(\"lambda0\", 0.01, 0.01, shape=n_intervals)\n",
    "\n",
    "    beta = pm.Normal(\"beta\", 0, sigma=1000)\n",
    "\n",
    "    lambda_ = pm.Deterministic(\"lambda_\", T.outer(T.exp(beta * df.counts), lambda0))\n",
    "    mu = pm.Deterministic(\"mu\", exposure * lambda_)\n",
    "\n",
    "    obs = pm.Poisson(\"obs\", mu, observed=death)"
   ]
  },
  {
   "cell_type": "markdown",
   "metadata": {},
   "source": [
    "n_samples = 100\n",
    "n_tune = 100"
   ]
  },
  {
   "cell_type": "markdown",
   "metadata": {},
   "source": [
    "with model:\n",
    "    trace = pm.sample(n_samples, tune=n_tune, random_seed=SEED)"
   ]
  },
  {
   "cell_type": "markdown",
   "metadata": {},
   "source": [
    "np.exp(trace[\"beta\"].mean())"
   ]
  },
  {
   "cell_type": "markdown",
   "metadata": {},
   "source": [
    "pm.plot_posterior(trace, var_names=[\"beta\"], color=\"#87ceeb\")"
   ]
  },
  {
   "cell_type": "markdown",
   "metadata": {},
   "source": [
    "## Modeling against wait times\n",
    "\n",
    "https://blog.datank.ai/a-quick-introduction-to-pymc3-and-bayesian-models-part-i-65419bdffcd8\n",
    "\n",
    "notes\n",
    "\n",
    "* build gerneative model for possible observations\n",
    "* build prior distribution for parameters of model\n",
    "\n",
    "exponential\n",
    "* memoryless\n",
    "* single parameter lamda"
   ]
  },
  {
   "cell_type": "code",
   "execution_count": 28,
   "metadata": {},
   "outputs": [
    {
     "data": {
      "text/plain": [
       "[819.0, 945.0, 1099.0, 977.0, 938.0]"
      ]
     },
     "execution_count": 28,
     "metadata": {},
     "output_type": "execute_result"
    }
   ],
   "source": [
    "sdf[\"album_delta\"].to_list()"
   ]
  },
  {
   "cell_type": "markdown",
   "metadata": {},
   "source": [
    "could  rewrite against https://stats.stackexchange.com/questions/112273/is-there-a-desription-in-the-literature-of-a-normal-hierarchical-model-with-hype#113082 suggestions of priors\n",
    "use a gamma rather than normal\n",
    "    * M∼N()  \n",
    "    * S∼IG()"
   ]
  },
  {
   "cell_type": "code",
   "execution_count": 34,
   "metadata": {},
   "outputs": [],
   "source": [
    "# adding data\n",
    "# Adding data. Note the extra parameter “observed” in the wait_times definition.\n",
    "\n",
    "# We need to remove zeroes or we run into a bug!\n",
    "\n",
    "with pm.Model() as model:\n",
    "    mup = 2\n",
    "    alpha = pm.Exponential(\"mu\", mup) # shape is IG\n",
    "    sigmap = 50\n",
    "    beta = pm.Uniform(\"sigma\", upper=sigmap, lower=0) # beta is the rate\n",
    "    wait_times = pm.Gamma(\n",
    "        \"wait_times\", alpha=mu, beta=sigma, observed=sdf[\"album_delta\"].to_list()\n",
    "    )  # Right here!\n",
    "    next_wait_time = pm.Normal(\"next_wait\", mu=mu, sigma=sigma)"
   ]
  },
  {
   "cell_type": "code",
   "execution_count": 35,
   "metadata": {},
   "outputs": [
    {
     "name": "stderr",
     "output_type": "stream",
     "text": [
      "INFO:pymc3:Multiprocess sampling (4 chains in 4 jobs)\n",
      "INFO:pymc3:CompoundStep\n",
      "INFO:pymc3:>Metropolis: [next_wait]\n",
      "INFO:pymc3:>Metropolis: [sigma]\n",
      "INFO:pymc3:>Metropolis: [mu]\n",
      "Sampling 4 chains, 0 divergences: 100%|█████████████████████████████████████| 40000/40000 [00:23<00:00, 1703.88draws/s]\n",
      "INFO:pymc3:The number of effective samples is smaller than 25% for some parameters.\n"
     ]
    }
   ],
   "source": [
    "with model:\n",
    "    step = pm.Metropolis()\n",
    "    trace = pm.sample(5000, step=step, tune=5000)"
   ]
  },
  {
   "cell_type": "code",
   "execution_count": 36,
   "metadata": {},
   "outputs": [
    {
     "name": "stderr",
     "output_type": "stream",
     "text": [
      "C:\\Users\\joe\\AppData\\Local\\Continuum\\anaconda3\\envs\\ds1\\lib\\site-packages\\arviz\\plots\\backends\\matplotlib\\distplot.py:38: UserWarning:\n",
      "\n",
      "Argument backend_kwargs has not effect in matplotlib.plot_distSupplied value won't be used\n",
      "\n",
      "C:\\Users\\joe\\AppData\\Local\\Continuum\\anaconda3\\envs\\ds1\\lib\\site-packages\\arviz\\plots\\backends\\matplotlib\\distplot.py:38: UserWarning:\n",
      "\n",
      "Argument backend_kwargs has not effect in matplotlib.plot_distSupplied value won't be used\n",
      "\n",
      "C:\\Users\\joe\\AppData\\Local\\Continuum\\anaconda3\\envs\\ds1\\lib\\site-packages\\arviz\\plots\\backends\\matplotlib\\distplot.py:38: UserWarning:\n",
      "\n",
      "Argument backend_kwargs has not effect in matplotlib.plot_distSupplied value won't be used\n",
      "\n"
     ]
    },
    {
     "data": {
      "text/plain": [
       "array([[<matplotlib.axes._subplots.AxesSubplot object at 0x000001F2B0C73C18>,\n",
       "        <matplotlib.axes._subplots.AxesSubplot object at 0x000001F2B0C94588>],\n",
       "       [<matplotlib.axes._subplots.AxesSubplot object at 0x000001F2B0BF1E80>,\n",
       "        <matplotlib.axes._subplots.AxesSubplot object at 0x000001F2B0B266A0>],\n",
       "       [<matplotlib.axes._subplots.AxesSubplot object at 0x000001F2B0E761D0>,\n",
       "        <matplotlib.axes._subplots.AxesSubplot object at 0x000001F2B0A52668>]],\n",
       "      dtype=object)"
      ]
     },
     "execution_count": 36,
     "metadata": {},
     "output_type": "execute_result"
    },
    {
     "data": {
      "image/png": "[encoded data removed]",
      "text/plain": [
       "<Figure size 864x432 with 6 Axes>"
      ]
     },
     "metadata": {},
     "output_type": "display_data"
    }
   ],
   "source": [
    "pm.plots.traceplot(trace)"
   ]
  },
  {
   "cell_type": "code",
   "execution_count": 37,
   "metadata": {},
   "outputs": [
    {
     "data": {
      "text/plain": [
       "(array([5.500e+01, 3.550e+02, 1.474e+03, 4.390e+03, 5.948e+03, 5.072e+03,\n",
       "        2.101e+03, 5.260e+02, 7.700e+01, 2.000e+00]),\n",
       " array([-171.65575363, -132.76791477,  -93.88007591,  -54.99223705,\n",
       "         -16.10439818,   22.78344068,   61.67127954,  100.5591184 ,\n",
       "         139.44695726,  178.33479612,  217.22263498]),\n",
       " <a list of 10 Patch objects>)"
      ]
     },
     "execution_count": 37,
     "metadata": {},
     "output_type": "execute_result"
    },
    {
     "data": {
      "image/png": "[encoded data removed]",
      "text/plain": [
       "<Figure size 720x504 with 1 Axes>"
      ]
     },
     "metadata": {},
     "output_type": "display_data"
    }
   ],
   "source": [
    "# The posterior distribution for the rate parameter. It encodes the uncertainty about it after observing the data.\n",
    "\n",
    "plt.figure(figsize=(10, 7))\n",
    "plt.hist(trace[\"next_wait\"])"
   ]
  },
  {
   "cell_type": "code",
   "execution_count": 38,
   "metadata": {},
   "outputs": [
    {
     "data": {
      "text/plain": [
       "<matplotlib.axes._subplots.AxesSubplot at 0x1f2ac0d0b00>"
      ]
     },
     "execution_count": 38,
     "metadata": {},
     "output_type": "execute_result"
    },
    {
     "data": {
      "image/png": "[encoded data removed]",
      "text/plain": [
       "<Figure size 576x396 with 1 Axes>"
      ]
     },
     "metadata": {},
     "output_type": "display_data"
    }
   ],
   "source": [
    "(pd.Series(trace[\"next_wait\"]) / 365).plot.hist()"
   ]
  },
  {
   "cell_type": "code",
   "execution_count": 39,
   "metadata": {},
   "outputs": [
    {
     "ename": "KeyError",
     "evalue": "'Unknown variable rate'",
     "output_type": "error",
     "traceback": [
      "\u001b[1;31m---------------------------------------------------------------------------\u001b[0m",
      "\u001b[1;31mKeyError\u001b[0m                                  Traceback (most recent call last)",
      "\u001b[1;32m<ipython-input-39-8d15680ab782>\u001b[0m in \u001b[0;36m<module>\u001b[1;34m\u001b[0m\n\u001b[0;32m      2\u001b[0m \u001b[1;31m# We count the number of cases and divide by the total samples drawn.\u001b[0m\u001b[1;33m\u001b[0m\u001b[1;33m\u001b[0m\u001b[1;33m\u001b[0m\u001b[0m\n\u001b[0;32m      3\u001b[0m \u001b[1;33m\u001b[0m\u001b[0m\n\u001b[1;32m----> 4\u001b[1;33m \u001b[0mpost_samples\u001b[0m \u001b[1;33m=\u001b[0m \u001b[0mpd\u001b[0m\u001b[1;33m.\u001b[0m\u001b[0mSeries\u001b[0m\u001b[1;33m(\u001b[0m\u001b[0mtrace\u001b[0m\u001b[1;33m[\u001b[0m\u001b[1;34m\"rate\"\u001b[0m\u001b[1;33m]\u001b[0m\u001b[1;33m)\u001b[0m\u001b[1;33m\u001b[0m\u001b[1;33m\u001b[0m\u001b[0m\n\u001b[0m\u001b[0;32m      5\u001b[0m \u001b[1;33m\u001b[0m\u001b[0m\n\u001b[0;32m      6\u001b[0m \u001b[0mprint\u001b[0m\u001b[1;33m(\u001b[0m\u001b[1;34m\"Expected rate: {}\"\u001b[0m\u001b[1;33m.\u001b[0m\u001b[0mformat\u001b[0m\u001b[1;33m(\u001b[0m\u001b[0mpost_samples\u001b[0m\u001b[1;33m.\u001b[0m\u001b[0mmean\u001b[0m\u001b[1;33m(\u001b[0m\u001b[1;33m)\u001b[0m\u001b[1;33m)\u001b[0m\u001b[1;33m)\u001b[0m\u001b[1;33m\u001b[0m\u001b[1;33m\u001b[0m\u001b[0m\n",
      "\u001b[1;32m~\\AppData\\Local\\Continuum\\anaconda3\\envs\\ds1\\lib\\site-packages\\pymc3\\backends\\base.py\u001b[0m in \u001b[0;36m__getitem__\u001b[1;34m(self, idx)\u001b[0m\n\u001b[0;32m    330\u001b[0m         \u001b[1;32mif\u001b[0m \u001b[0mvar\u001b[0m \u001b[1;32min\u001b[0m \u001b[0mself\u001b[0m\u001b[1;33m.\u001b[0m\u001b[0mstat_names\u001b[0m\u001b[1;33m:\u001b[0m\u001b[1;33m\u001b[0m\u001b[1;33m\u001b[0m\u001b[0m\n\u001b[0;32m    331\u001b[0m             \u001b[1;32mreturn\u001b[0m \u001b[0mself\u001b[0m\u001b[1;33m.\u001b[0m\u001b[0mget_sampler_stats\u001b[0m\u001b[1;33m(\u001b[0m\u001b[0mvar\u001b[0m\u001b[1;33m,\u001b[0m \u001b[0mburn\u001b[0m\u001b[1;33m=\u001b[0m\u001b[0mburn\u001b[0m\u001b[1;33m,\u001b[0m \u001b[0mthin\u001b[0m\u001b[1;33m=\u001b[0m\u001b[0mthin\u001b[0m\u001b[1;33m)\u001b[0m\u001b[1;33m\u001b[0m\u001b[1;33m\u001b[0m\u001b[0m\n\u001b[1;32m--> 332\u001b[1;33m         \u001b[1;32mraise\u001b[0m \u001b[0mKeyError\u001b[0m\u001b[1;33m(\u001b[0m\u001b[1;34m\"Unknown variable %s\"\u001b[0m \u001b[1;33m%\u001b[0m \u001b[0mvar\u001b[0m\u001b[1;33m)\u001b[0m\u001b[1;33m\u001b[0m\u001b[1;33m\u001b[0m\u001b[0m\n\u001b[0m\u001b[0;32m    333\u001b[0m \u001b[1;33m\u001b[0m\u001b[0m\n\u001b[0;32m    334\u001b[0m     _attrs = set(['_straces', 'varnames', 'chains', 'stat_names',\n",
      "\u001b[1;31mKeyError\u001b[0m: 'Unknown variable rate'"
     ]
    }
   ],
   "source": [
    "# How to compute probabilities using the posterior samples.\n",
    "# We count the number of cases and divide by the total samples drawn.\n",
    "\n",
    "post_samples = pd.Series(trace[\"rate\"])\n",
    "\n",
    "print(\"Expected rate: {}\".format(post_samples.mean()))\n",
    "print(\n",
    "    \"Probability between 0.15 and 0.158: {}\".format(\n",
    "        post_samples.map(lambda x: x > 0.15 and x < 0.158).mean()\n",
    "    )\n",
    ")\n",
    "print(\n",
    "    \"Probability below 0.159: {}\".format(post_samples.map(lambda x: x < 0.159).mean())\n",
    ")"
   ]
  },
  {
   "cell_type": "code",
   "execution_count": null,
   "metadata": {},
   "outputs": [],
   "source": [
    "posterior_samples = pm.sample_ppc(model=model, trace=trace, random_seed=4242)[\n",
    "    \"wait_times\"\n",
    "]"
   ]
  },
  {
   "cell_type": "code",
   "execution_count": null,
   "metadata": {},
   "outputs": [],
   "source": [
    "posterior_samples.shape = (posterior_samples.shape[0] * posterior_samples.shape[1],)\n",
    "posterior_samples = posterior_samples / 365\n",
    "posterior_samples.shape"
   ]
  },
  {
   "cell_type": "code",
   "execution_count": null,
   "metadata": {},
   "outputs": [],
   "source": [
    "ps = pd.Series(posterior_samples)\n",
    "print(ps.mean())\n",
    "print((ps > 10).mean())\n",
    "print((ps < 1).mean())"
   ]
  },
  {
   "cell_type": "code",
   "execution_count": null,
   "metadata": {},
   "outputs": [],
   "source": [
    "fig, ax = plt.subplots()\n",
    "ax.hist(posterior_samples, range=(0, 5), bins=30, density=True, label=\"simulated\")\n",
    "ax.hist(trace[\"next_wait\"], range=(0, 5), bins=30, density=True, label=\"next wait\")\n",
    "\n",
    "\n",
    "(sdf[\"album_delta\"] / 365).plot.hist(\n",
    "    density=True, ax=ax, alpha=0.5, title=\"Years Wait\", label=\"Observed\", legend=True\n",
    ")\n",
    "ax.legend([\"Simulated posterior\", \"Next wait\", \"Observed\"])\n",
    "# sns.kdeplot(sdf[\"album_delta\"] / 365, ax=ax)"
   ]
  },
  {
   "cell_type": "code",
   "execution_count": null,
   "metadata": {},
   "outputs": [],
   "source": [
    "posterior_samples = posterior_samples * 365\n",
    "pm.plots.kdeplot(posterior_samples, cumulative=True)\n",
    "pm.plots.densityplot(posterior_samples)"
   ]
  },
  {
   "cell_type": "code",
   "execution_count": null,
   "metadata": {},
   "outputs": [],
   "source": [
    "stats = pm.stats.summary(trace[\"next_wait\"]).T.to_dict()[\"x\"]"
   ]
  },
  {
   "cell_type": "markdown",
   "metadata": {},
   "source": [
    "## Data Prediction"
   ]
  },
  {
   "cell_type": "code",
   "execution_count": null,
   "metadata": {},
   "outputs": [],
   "source": [
    "display(pm.stats.summary(trace[\"next_wait\"]))\n",
    "display(pm.stats.summary(trace[\"next_wait\"] / 365))"
   ]
  },
  {
   "cell_type": "code",
   "execution_count": null,
   "metadata": {},
   "outputs": [],
   "source": [
    "pm.plots.plot_posterior(trace[\"next_wait\"])"
   ]
  },
  {
   "cell_type": "code",
   "execution_count": null,
   "metadata": {},
   "outputs": [],
   "source": [
    "print(\"expected wait until next album: \", (trace[\"next_wait\"]).mean() - current_days)\n",
    "print(\"expected wait in months: \", ((trace[\"next_wait\"]).mean() - current_days) / 30)\n",
    "print(\n",
    "    \"but could be up to \",\n",
    "    stats[\"hpd_97%\"] - current_days,\n",
    "    \" days / \",\n",
    "    (stats[\"hpd_97%\"] - current_days) / 30,\n",
    "    \" months / \",\n",
    "    (stats[\"hpd_97%\"] - current_days) / 365,\n",
    "    \" years.\",\n",
    ")"
   ]
  },
  {
   "cell_type": "code",
   "execution_count": null,
   "metadata": {},
   "outputs": [],
   "source": []
  },
  {
   "cell_type": "code",
   "execution_count": null,
   "metadata": {},
   "outputs": [],
   "source": []
  }
 ],
 "metadata": {
  "kernelspec": {
   "display_name": "Python 3",
   "language": "python",
   "name": "python3"
  },
  "language_info": {
   "codemirror_mode": {
    "name": "ipython",
    "version": 3
   },
   "file_extension": ".py",
   "mimetype": "text/x-python",
   "name": "python",
   "nbconvert_exporter": "python",
   "pygments_lexer": "ipython3",
   "version": "3.6.10"
  }
 },
 "nbformat": 4,
 "nbformat_minor": 4
}
