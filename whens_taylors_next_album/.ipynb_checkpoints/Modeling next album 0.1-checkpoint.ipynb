{
 "cells": [
  {
   "cell_type": "markdown",
   "metadata": {},
   "source": [
    "# When Will X's Next Album Be Released?\n",
    "\n",
    "## Assumption\n",
    "* Distance between albums is poisson distributed\n",
    "* based on https://youtu.be/HTZaoK_h1A8?t=1451\n",
    "\n",
    "## Progressions\n",
    "* Time trend in distance between albums"
   ]
  },
  {
   "cell_type": "markdown",
   "metadata": {},
   "source": [
    "## Data Pull"
   ]
  },
  {
   "cell_type": "code",
   "execution_count": 83,
   "metadata": {},
   "outputs": [],
   "source": [
    "# x = \"Bruce_Springsteen\"\n",
    "x = \"Taylor_Swift\"\n",
    "# x = \"Enter_Shikari\""
   ]
  },
  {
   "cell_type": "code",
   "execution_count": 84,
   "metadata": {},
   "outputs": [],
   "source": [
    "url = f\"https://en.wikipedia.org/wiki/{x}_discography\"\n",
    "\n",
    "\n",
    "dfs = pd.read_html(url)"
   ]
  },
  {
   "cell_type": "code",
   "execution_count": 85,
   "metadata": {},
   "outputs": [],
   "source": [
    "df = dfs[1]\n",
    "df.drop(df.tail(1).index, inplace=True)\n",
    "df.columns = df.columns.droplevel()\n",
    "\n",
    "try:\n",
    "    df = df.rename(columns={\"Details\": \"Album details\"})\n",
    "except Exception as e:\n",
    "    print(e)"
   ]
  },
  {
   "cell_type": "code",
   "execution_count": 86,
   "metadata": {},
   "outputs": [
    {
     "data": {
      "text/html": [
       "<div>\n",
       "<style scoped>\n",
       "    .dataframe tbody tr th:only-of-type {\n",
       "        vertical-align: middle;\n",
       "    }\n",
       "\n",
       "    .dataframe tbody tr th {\n",
       "        vertical-align: top;\n",
       "    }\n",
       "\n",
       "    .dataframe thead th {\n",
       "        text-align: right;\n",
       "    }\n",
       "</style>\n",
       "<table border=\"1\" class=\"dataframe\">\n",
       "  <thead>\n",
       "    <tr style=\"text-align: right;\">\n",
       "      <th></th>\n",
       "      <th>Title</th>\n",
       "      <th>Album details</th>\n",
       "      <th>US[18]</th>\n",
       "      <th>AUS[19]</th>\n",
       "      <th>CAN[20]</th>\n",
       "      <th>FRA[21]</th>\n",
       "      <th>GER[22]</th>\n",
       "      <th>IRE[23]</th>\n",
       "      <th>JPN[24]</th>\n",
       "      <th>NZ[25]</th>\n",
       "      <th>SWE[26]</th>\n",
       "      <th>UK[27]</th>\n",
       "      <th>Sales</th>\n",
       "      <th>Certifications</th>\n",
       "      <th>Unnamed: 14_level_1</th>\n",
       "      <th>Release_date</th>\n",
       "      <th>album_delta</th>\n",
       "      <th>counts</th>\n",
       "    </tr>\n",
       "  </thead>\n",
       "  <tbody>\n",
       "    <tr>\n",
       "      <th>0</th>\n",
       "      <td>Taylor Swift</td>\n",
       "      <td>Released: October 24, 2006 Label: Big Machine ...</td>\n",
       "      <td>5</td>\n",
       "      <td>33</td>\n",
       "      <td>14</td>\n",
       "      <td>—</td>\n",
       "      <td>—</td>\n",
       "      <td>59</td>\n",
       "      <td>53</td>\n",
       "      <td>38</td>\n",
       "      <td>—</td>\n",
       "      <td>81</td>\n",
       "      <td>WW: 7,000,000[28] US: 5,720,000[A]</td>\n",
       "      <td>RIAA: 7× Platinum[30] ARIA: Platinum[31] BPI: ...</td>\n",
       "      <td>NaN</td>\n",
       "      <td>2006-10-24</td>\n",
       "      <td>nan</td>\n",
       "      <td>1</td>\n",
       "    </tr>\n",
       "    <tr>\n",
       "      <th>1</th>\n",
       "      <td>Taylor Swift</td>\n",
       "      <td>Re-released: March 18, 2008 (Bonus Track Versi...</td>\n",
       "      <td>5</td>\n",
       "      <td>33</td>\n",
       "      <td>14</td>\n",
       "      <td>—</td>\n",
       "      <td>—</td>\n",
       "      <td>59</td>\n",
       "      <td>53</td>\n",
       "      <td>38</td>\n",
       "      <td>—</td>\n",
       "      <td>81</td>\n",
       "      <td>WW: 7,000,000[28] US: 5,720,000[A]</td>\n",
       "      <td>RIAA: 7× Platinum[30] ARIA: Platinum[31] BPI: ...</td>\n",
       "      <td>NaN</td>\n",
       "      <td>2008-03-18</td>\n",
       "      <td>511.00000</td>\n",
       "      <td>1</td>\n",
       "    </tr>\n",
       "    <tr>\n",
       "      <th>2</th>\n",
       "      <td>Fearless</td>\n",
       "      <td>Released: November 11, 2008 Label: Big Machine...</td>\n",
       "      <td>1</td>\n",
       "      <td>2</td>\n",
       "      <td>1</td>\n",
       "      <td>26</td>\n",
       "      <td>12</td>\n",
       "      <td>7</td>\n",
       "      <td>8</td>\n",
       "      <td>1</td>\n",
       "      <td>12</td>\n",
       "      <td>5</td>\n",
       "      <td>WW: 12,000,000[B] US: 7,180,000[A] AUS: 500,00...</td>\n",
       "      <td>RIAA: Diamond[30] ARIA: 7× Platinum[36] BPI: 2...</td>\n",
       "      <td>NaN</td>\n",
       "      <td>2008-11-11</td>\n",
       "      <td>238.00000</td>\n",
       "      <td>1</td>\n",
       "    </tr>\n",
       "    <tr>\n",
       "      <th>3</th>\n",
       "      <td>Fearless</td>\n",
       "      <td>Re-released: October 27, 2009 (Platinum Editio...</td>\n",
       "      <td>1</td>\n",
       "      <td>2</td>\n",
       "      <td>1</td>\n",
       "      <td>26</td>\n",
       "      <td>12</td>\n",
       "      <td>7</td>\n",
       "      <td>8</td>\n",
       "      <td>1</td>\n",
       "      <td>12</td>\n",
       "      <td>5</td>\n",
       "      <td>WW: 12,000,000[B] US: 7,180,000[A] AUS: 500,00...</td>\n",
       "      <td>RIAA: Diamond[30] ARIA: 7× Platinum[36] BPI: 2...</td>\n",
       "      <td>NaN</td>\n",
       "      <td>2009-10-27</td>\n",
       "      <td>350.00000</td>\n",
       "      <td>1</td>\n",
       "    </tr>\n",
       "    <tr>\n",
       "      <th>4</th>\n",
       "      <td>Speak Now</td>\n",
       "      <td>Released: October 25, 2010 Label: Big Machine ...</td>\n",
       "      <td>1</td>\n",
       "      <td>1</td>\n",
       "      <td>1</td>\n",
       "      <td>39</td>\n",
       "      <td>15</td>\n",
       "      <td>6</td>\n",
       "      <td>6</td>\n",
       "      <td>1</td>\n",
       "      <td>18</td>\n",
       "      <td>6</td>\n",
       "      <td>WW: 5,000,000[E] US: 4,694,000[F] UK: 169,281[G]</td>\n",
       "      <td>RIAA: 6× Platinum[30] ARIA: 2× Platinum[44] BP...</td>\n",
       "      <td>NaN</td>\n",
       "      <td>2010-10-25</td>\n",
       "      <td>363.00000</td>\n",
       "      <td>1</td>\n",
       "    </tr>\n",
       "    <tr>\n",
       "      <th>5</th>\n",
       "      <td>Red</td>\n",
       "      <td>Released: October 22, 2012 Label: Big Machine ...</td>\n",
       "      <td>1</td>\n",
       "      <td>1</td>\n",
       "      <td>1</td>\n",
       "      <td>30</td>\n",
       "      <td>5</td>\n",
       "      <td>1</td>\n",
       "      <td>3</td>\n",
       "      <td>1</td>\n",
       "      <td>8</td>\n",
       "      <td>1</td>\n",
       "      <td>WW: 6,000,000[H] US: 4,465,000[F] JPN: 256,000...</td>\n",
       "      <td>RIAA: 7× Platinum[30] ARIA: 4× Platinum[48] BP...</td>\n",
       "      <td>NaN</td>\n",
       "      <td>2012-10-22</td>\n",
       "      <td>728.00000</td>\n",
       "      <td>1</td>\n",
       "    </tr>\n",
       "    <tr>\n",
       "      <th>6</th>\n",
       "      <td>1989</td>\n",
       "      <td>Released: October 27, 2014 Label: Big Machine ...</td>\n",
       "      <td>1</td>\n",
       "      <td>1</td>\n",
       "      <td>1</td>\n",
       "      <td>9</td>\n",
       "      <td>4</td>\n",
       "      <td>1</td>\n",
       "      <td>3</td>\n",
       "      <td>1</td>\n",
       "      <td>23</td>\n",
       "      <td>1</td>\n",
       "      <td>WW: 10,100,000[J] US: 6,215,000[F] CAN: 542,00...</td>\n",
       "      <td>RIAA: 9× Platinum[30] ARIA: 9× Platinum[58] BP...</td>\n",
       "      <td>NaN</td>\n",
       "      <td>2014-10-27</td>\n",
       "      <td>735.00000</td>\n",
       "      <td>1</td>\n",
       "    </tr>\n",
       "    <tr>\n",
       "      <th>7</th>\n",
       "      <td>Reputation</td>\n",
       "      <td>Released: November 10, 2017 Label: Big Machine...</td>\n",
       "      <td>1</td>\n",
       "      <td>1</td>\n",
       "      <td>1</td>\n",
       "      <td>16</td>\n",
       "      <td>2</td>\n",
       "      <td>1</td>\n",
       "      <td>3</td>\n",
       "      <td>1</td>\n",
       "      <td>2</td>\n",
       "      <td>1</td>\n",
       "      <td>WW: 4,500,000[N] US: 2,230,000[A] CAN: 80,000[...</td>\n",
       "      <td>RIAA: 3× Platinum[30] ARIA: 3× Platinum[61] BP...</td>\n",
       "      <td>NaN</td>\n",
       "      <td>2017-11-10</td>\n",
       "      <td>1110.00000</td>\n",
       "      <td>1</td>\n",
       "    </tr>\n",
       "    <tr>\n",
       "      <th>8</th>\n",
       "      <td>Lover</td>\n",
       "      <td>Released: August 23, 2019 Label: Republic, UMG...</td>\n",
       "      <td>1</td>\n",
       "      <td>1</td>\n",
       "      <td>1</td>\n",
       "      <td>5</td>\n",
       "      <td>2</td>\n",
       "      <td>1</td>\n",
       "      <td>3</td>\n",
       "      <td>1</td>\n",
       "      <td>1</td>\n",
       "      <td>1</td>\n",
       "      <td>WW: 3,200,000[63] US: 1,085,000[F] CAN: 61,000...</td>\n",
       "      <td>RIAA: 2× Platinum[30] ARIA: 2× Platinum[69] BP...</td>\n",
       "      <td>NaN</td>\n",
       "      <td>2019-08-23</td>\n",
       "      <td>651.00000</td>\n",
       "      <td>1</td>\n",
       "    </tr>\n",
       "  </tbody>\n",
       "</table>\n",
       "</div>"
      ],
      "text/plain": [
       "          Title                                      Album details US[18]  \\\n",
       "0  Taylor Swift  Released: October 24, 2006 Label: Big Machine ...      5   \n",
       "1  Taylor Swift  Re-released: March 18, 2008 (Bonus Track Versi...      5   \n",
       "2      Fearless  Released: November 11, 2008 Label: Big Machine...      1   \n",
       "3      Fearless  Re-released: October 27, 2009 (Platinum Editio...      1   \n",
       "4     Speak Now  Released: October 25, 2010 Label: Big Machine ...      1   \n",
       "5           Red  Released: October 22, 2012 Label: Big Machine ...      1   \n",
       "6          1989  Released: October 27, 2014 Label: Big Machine ...      1   \n",
       "7    Reputation  Released: November 10, 2017 Label: Big Machine...      1   \n",
       "8         Lover  Released: August 23, 2019 Label: Republic, UMG...      1   \n",
       "\n",
       "  AUS[19] CAN[20] FRA[21] GER[22] IRE[23] JPN[24] NZ[25] SWE[26] UK[27]  \\\n",
       "0      33      14       —       —      59      53     38       —     81   \n",
       "1      33      14       —       —      59      53     38       —     81   \n",
       "2       2       1      26      12       7       8      1      12      5   \n",
       "3       2       1      26      12       7       8      1      12      5   \n",
       "4       1       1      39      15       6       6      1      18      6   \n",
       "5       1       1      30       5       1       3      1       8      1   \n",
       "6       1       1       9       4       1       3      1      23      1   \n",
       "7       1       1      16       2       1       3      1       2      1   \n",
       "8       1       1       5       2       1       3      1       1      1   \n",
       "\n",
       "                                               Sales  \\\n",
       "0                 WW: 7,000,000[28] US: 5,720,000[A]   \n",
       "1                 WW: 7,000,000[28] US: 5,720,000[A]   \n",
       "2  WW: 12,000,000[B] US: 7,180,000[A] AUS: 500,00...   \n",
       "3  WW: 12,000,000[B] US: 7,180,000[A] AUS: 500,00...   \n",
       "4   WW: 5,000,000[E] US: 4,694,000[F] UK: 169,281[G]   \n",
       "5  WW: 6,000,000[H] US: 4,465,000[F] JPN: 256,000...   \n",
       "6  WW: 10,100,000[J] US: 6,215,000[F] CAN: 542,00...   \n",
       "7  WW: 4,500,000[N] US: 2,230,000[A] CAN: 80,000[...   \n",
       "8  WW: 3,200,000[63] US: 1,085,000[F] CAN: 61,000...   \n",
       "\n",
       "                                      Certifications Unnamed: 14_level_1  \\\n",
       "0  RIAA: 7× Platinum[30] ARIA: Platinum[31] BPI: ...                 NaN   \n",
       "1  RIAA: 7× Platinum[30] ARIA: Platinum[31] BPI: ...                 NaN   \n",
       "2  RIAA: Diamond[30] ARIA: 7× Platinum[36] BPI: 2...                 NaN   \n",
       "3  RIAA: Diamond[30] ARIA: 7× Platinum[36] BPI: 2...                 NaN   \n",
       "4  RIAA: 6× Platinum[30] ARIA: 2× Platinum[44] BP...                 NaN   \n",
       "5  RIAA: 7× Platinum[30] ARIA: 4× Platinum[48] BP...                 NaN   \n",
       "6  RIAA: 9× Platinum[30] ARIA: 9× Platinum[58] BP...                 NaN   \n",
       "7  RIAA: 3× Platinum[30] ARIA: 3× Platinum[61] BP...                 NaN   \n",
       "8  RIAA: 2× Platinum[30] ARIA: 2× Platinum[69] BP...                 NaN   \n",
       "\n",
       "  Release_date  album_delta  counts  \n",
       "0   2006-10-24          nan       1  \n",
       "1   2008-03-18    511.00000       1  \n",
       "2   2008-11-11    238.00000       1  \n",
       "3   2009-10-27    350.00000       1  \n",
       "4   2010-10-25    363.00000       1  \n",
       "5   2012-10-22    728.00000       1  \n",
       "6   2014-10-27    735.00000       1  \n",
       "7   2017-11-10   1110.00000       1  \n",
       "8   2019-08-23    651.00000       1  "
      ]
     },
     "execution_count": 86,
     "metadata": {},
     "output_type": "execute_result"
    }
   ],
   "source": [
    "df[\"Release_date\"] = pd.to_datetime(\n",
    "    [\n",
    "        \" \".join(x.split(\":\")[1].split(\" \")[:4]).split(\"[\")[0]\n",
    "        for x in df[\"Album details\"]\n",
    "    ]\n",
    ")\n",
    "df[\"album_delta\"] = df[\"Release_date\"].diff().dt.days\n",
    "df[\"counts\"] = 1\n",
    "df"
   ]
  },
  {
   "cell_type": "code",
   "execution_count": 87,
   "metadata": {},
   "outputs": [],
   "source": [
    "df.index = pd.DatetimeIndex(df[\"Release_date\"])"
   ]
  },
  {
   "cell_type": "code",
   "execution_count": 88,
   "metadata": {},
   "outputs": [],
   "source": [
    "# dist_dif = df\n",
    "# date_range = pd.date_range(\n",
    "#     dist_dif[\"Release_date\"].min(), dist_dif[\"Release_date\"].max()\n",
    "# )\n",
    "# dist_dif.index = pd.DatetimeIndex(dist_dif[\"Release_date\"])\n",
    "# dist_dif = dist_dif.reindex(date_range, fill_value=0)\n",
    "# dist_dif"
   ]
  },
  {
   "cell_type": "markdown",
   "metadata": {},
   "source": [
    "## Data Modeling"
   ]
  },
  {
   "cell_type": "code",
   "execution_count": 89,
   "metadata": {},
   "outputs": [],
   "source": [
    "# dist_dif[\"counts\"].plot(style=\".\")"
   ]
  },
  {
   "cell_type": "markdown",
   "metadata": {},
   "source": [
    "### Adapting Coal mining example\n",
    "https://docs.pymc.io/notebooks/getting_started.html#Case-study-2:-Coal-mining-disasters"
   ]
  },
  {
   "cell_type": "markdown",
   "metadata": {},
   "source": [
    "x = dist_dif[\"counts\"].sum()  # number of events\n",
    "# lamda =\n",
    "t = (dist_dif.index.max() - dist_dif.index.min()).days  # rate parameter\n",
    "x, t"
   ]
  },
  {
   "cell_type": "markdown",
   "metadata": {},
   "source": [
    "with pm.Model() as album_model:\n",
    "    rate = pm.Exponential(\"album_rate\", 1)\n",
    "    albums = pm.Poisson(\"albums\", rate, observed=dist_dif[\"counts\"])\n",
    "\n",
    "    trace = pm.sample(1000)"
   ]
  },
  {
   "cell_type": "markdown",
   "metadata": {},
   "source": [
    "pm.traceplot(trace)"
   ]
  },
  {
   "cell_type": "markdown",
   "metadata": {},
   "source": [
    "cumulative_prob = []\n",
    "running_prob = 0\n",
    "for x in dist_dif[\"counts\"]:\n",
    "    if x == 1:\n",
    "        running_prob = 0\n",
    "    else:\n",
    "        running_prob += trace[\"album_rate\"].mean()\n",
    "\n",
    "    cumulative_prob.append(running_prob)"
   ]
  },
  {
   "cell_type": "markdown",
   "metadata": {},
   "source": [
    "dist_dif[\"prob\"] = cumulative_prob"
   ]
  },
  {
   "cell_type": "markdown",
   "metadata": {},
   "source": [
    "dist_dif[\"prob\"].plot()"
   ]
  },
  {
   "cell_type": "markdown",
   "metadata": {},
   "source": [
    "### Survival analysis "
   ]
  },
  {
   "cell_type": "code",
   "execution_count": 90,
   "metadata": {},
   "outputs": [
    {
     "data": {
      "text/plain": [
       "datetime.datetime(2020, 5, 11, 21, 44, 43, 351957)"
      ]
     },
     "execution_count": 90,
     "metadata": {},
     "output_type": "execute_result"
    }
   ],
   "source": [
    "pd.datetime.now()"
   ]
  },
  {
   "cell_type": "code",
   "execution_count": 91,
   "metadata": {},
   "outputs": [
    {
     "data": {
      "text/html": [
       "<div>\n",
       "<style scoped>\n",
       "    .dataframe tbody tr th:only-of-type {\n",
       "        vertical-align: middle;\n",
       "    }\n",
       "\n",
       "    .dataframe tbody tr th {\n",
       "        vertical-align: top;\n",
       "    }\n",
       "\n",
       "    .dataframe thead th {\n",
       "        text-align: right;\n",
       "    }\n",
       "</style>\n",
       "<table border=\"1\" class=\"dataframe\">\n",
       "  <thead>\n",
       "    <tr style=\"text-align: right;\">\n",
       "      <th></th>\n",
       "      <th>Release_date</th>\n",
       "      <th>album_delta</th>\n",
       "      <th>counts</th>\n",
       "    </tr>\n",
       "  </thead>\n",
       "  <tbody>\n",
       "    <tr>\n",
       "      <th>0</th>\n",
       "      <td>2008-03-18</td>\n",
       "      <td>511.00000</td>\n",
       "      <td>1</td>\n",
       "    </tr>\n",
       "    <tr>\n",
       "      <th>1</th>\n",
       "      <td>2008-11-11</td>\n",
       "      <td>238.00000</td>\n",
       "      <td>1</td>\n",
       "    </tr>\n",
       "    <tr>\n",
       "      <th>2</th>\n",
       "      <td>2009-10-27</td>\n",
       "      <td>350.00000</td>\n",
       "      <td>1</td>\n",
       "    </tr>\n",
       "    <tr>\n",
       "      <th>3</th>\n",
       "      <td>2010-10-25</td>\n",
       "      <td>363.00000</td>\n",
       "      <td>1</td>\n",
       "    </tr>\n",
       "    <tr>\n",
       "      <th>4</th>\n",
       "      <td>2012-10-22</td>\n",
       "      <td>728.00000</td>\n",
       "      <td>1</td>\n",
       "    </tr>\n",
       "  </tbody>\n",
       "</table>\n",
       "</div>"
      ],
      "text/plain": [
       "  Release_date  album_delta  counts\n",
       "0   2008-03-18    511.00000       1\n",
       "1   2008-11-11    238.00000       1\n",
       "2   2009-10-27    350.00000       1\n",
       "3   2010-10-25    363.00000       1\n",
       "4   2012-10-22    728.00000       1"
      ]
     },
     "execution_count": 91,
     "metadata": {},
     "output_type": "execute_result"
    }
   ],
   "source": [
    "sdf = df[[\"album_delta\", \"counts\"]].dropna().reset_index()\n",
    "sdf.head()"
   ]
  },
  {
   "cell_type": "code",
   "execution_count": 92,
   "metadata": {},
   "outputs": [
    {
     "data": {
      "text/html": [
       "<div>\n",
       "<style scoped>\n",
       "    .dataframe tbody tr th:only-of-type {\n",
       "        vertical-align: middle;\n",
       "    }\n",
       "\n",
       "    .dataframe tbody tr th {\n",
       "        vertical-align: top;\n",
       "    }\n",
       "\n",
       "    .dataframe thead th {\n",
       "        text-align: right;\n",
       "    }\n",
       "</style>\n",
       "<table border=\"1\" class=\"dataframe\">\n",
       "  <thead>\n",
       "    <tr style=\"text-align: right;\">\n",
       "      <th></th>\n",
       "      <th>Release_date</th>\n",
       "      <th>album_delta</th>\n",
       "      <th>counts</th>\n",
       "    </tr>\n",
       "  </thead>\n",
       "  <tbody>\n",
       "    <tr>\n",
       "      <th>0</th>\n",
       "      <td>2008-03-18</td>\n",
       "      <td>511.00000</td>\n",
       "      <td>1</td>\n",
       "    </tr>\n",
       "    <tr>\n",
       "      <th>1</th>\n",
       "      <td>2008-11-11</td>\n",
       "      <td>238.00000</td>\n",
       "      <td>1</td>\n",
       "    </tr>\n",
       "    <tr>\n",
       "      <th>2</th>\n",
       "      <td>2009-10-27</td>\n",
       "      <td>350.00000</td>\n",
       "      <td>1</td>\n",
       "    </tr>\n",
       "    <tr>\n",
       "      <th>3</th>\n",
       "      <td>2010-10-25</td>\n",
       "      <td>363.00000</td>\n",
       "      <td>1</td>\n",
       "    </tr>\n",
       "    <tr>\n",
       "      <th>4</th>\n",
       "      <td>2012-10-22</td>\n",
       "      <td>728.00000</td>\n",
       "      <td>1</td>\n",
       "    </tr>\n",
       "    <tr>\n",
       "      <th>5</th>\n",
       "      <td>2014-10-27</td>\n",
       "      <td>735.00000</td>\n",
       "      <td>1</td>\n",
       "    </tr>\n",
       "    <tr>\n",
       "      <th>6</th>\n",
       "      <td>2017-11-10</td>\n",
       "      <td>1110.00000</td>\n",
       "      <td>1</td>\n",
       "    </tr>\n",
       "    <tr>\n",
       "      <th>7</th>\n",
       "      <td>2019-08-23</td>\n",
       "      <td>651.00000</td>\n",
       "      <td>1</td>\n",
       "    </tr>\n",
       "  </tbody>\n",
       "</table>\n",
       "</div>"
      ],
      "text/plain": [
       "  Release_date  album_delta  counts\n",
       "0   2008-03-18    511.00000       1\n",
       "1   2008-11-11    238.00000       1\n",
       "2   2009-10-27    350.00000       1\n",
       "3   2010-10-25    363.00000       1\n",
       "4   2012-10-22    728.00000       1\n",
       "5   2014-10-27    735.00000       1\n",
       "6   2017-11-10   1110.00000       1\n",
       "7   2019-08-23    651.00000       1"
      ]
     },
     "execution_count": 92,
     "metadata": {},
     "output_type": "execute_result"
    }
   ],
   "source": [
    "since = pd.DataFrame(\n",
    "    data=[\n",
    "        [pd.datetime.now()],\n",
    "        [(pd.datetime.now() - sdf[\"Release_date\"].max()).days],\n",
    "        [0],\n",
    "    ]\n",
    ").T\n",
    "current_days = (pd.datetime.now() - sdf[\"Release_date\"].max()).days\n",
    "since.columns = [\"Release_date\", \"album_delta\", \"counts\"]\n",
    "since\n",
    "# sdf = pd.concat([sdf, since])\n",
    "sdf = sdf[sdf[\"album_delta\"] > 0]\n",
    "sdf"
   ]
  },
  {
   "cell_type": "code",
   "execution_count": null,
   "metadata": {},
   "outputs": [],
   "source": []
  },
  {
   "cell_type": "markdown",
   "metadata": {},
   "source": [
    "n_patients = len(sdf)\n",
    "patients = np.arange(n_patients)\n",
    "fig, ax = plt.subplots(figsize=(8, 6))\n",
    "\n",
    "blue, _, red = sns.color_palette()[:3]\n",
    "\n",
    "ax.hlines(\n",
    "    patients[sdf.counts.values == 0],\n",
    "    0,\n",
    "    sdf[sdf.counts.values == 0].album_delta,\n",
    "    color=blue,\n",
    "    label=\"Censored\",\n",
    ")\n",
    "\n",
    "ax.hlines(\n",
    "    patients[sdf.counts.values == 1],\n",
    "    0,\n",
    "    sdf[sdf.counts.values == 1].album_delta,\n",
    "    color=red,\n",
    "    label=\"Uncensored\",\n",
    ")\n",
    "\n",
    "ax.scatter(\n",
    "    sdf[sdf.counts.values == 1].album_delta,\n",
    "    patients[sdf.counts.values == 1],\n",
    "    color=\"k\",\n",
    "    zorder=10,\n",
    "    label=\"Metastized\",\n",
    ")\n",
    "\n",
    "ax.set_xlim(left=0)\n",
    "ax.set_xlabel(\"Months since mastectomy\")\n",
    "ax.set_yticks([])\n",
    "ax.set_ylabel(\"Subject\")\n",
    "\n",
    "ax.set_ylim(-0.25, n_patients + 0.25)\n",
    "\n",
    "ax.legend(loc=\"center right\")"
   ]
  },
  {
   "cell_type": "markdown",
   "metadata": {},
   "source": [
    "interval_length = 1\n",
    "interval_bounds = np.arange(\n",
    "    0, sdf.album_delta.max() + interval_length + 1, interval_length\n",
    ")\n",
    "n_intervals = interval_bounds.size - 1\n",
    "intervals = np.arange(n_intervals)"
   ]
  },
  {
   "cell_type": "markdown",
   "metadata": {},
   "source": [
    "last_period = np.floor((sdf.album_delta - 0.01) / interval_length).astype(int)\n",
    "\n",
    "death = np.zeros((n_patients, n_intervals))\n",
    "death[patients, last_period] = df.counts"
   ]
  },
  {
   "cell_type": "markdown",
   "metadata": {},
   "source": [
    "exposure = (\n",
    "    np.greater_equal.outer(sdf.album_delta, interval_bounds[:-1]) * interval_length\n",
    ")"
   ]
  },
  {
   "cell_type": "markdown",
   "metadata": {},
   "source": [
    "exposure.shape"
   ]
  },
  {
   "cell_type": "markdown",
   "metadata": {},
   "source": [
    "exposure[patients, last_period] = sdf.album_delta - interval_bounds[last_period.values]"
   ]
  },
  {
   "cell_type": "markdown",
   "metadata": {},
   "source": [
    "SEED = 644567  # from random.org"
   ]
  },
  {
   "cell_type": "markdown",
   "metadata": {},
   "source": [
    "from theano import tensor as T"
   ]
  },
  {
   "cell_type": "markdown",
   "metadata": {},
   "source": [
    "with pm.Model() as model:\n",
    "\n",
    "    lambda0 = pm.Gamma(\"lambda0\", 0.01, 0.01, shape=n_intervals)\n",
    "\n",
    "    beta = pm.Normal(\"beta\", 0, sigma=1000)\n",
    "\n",
    "    lambda_ = pm.Deterministic(\"lambda_\", T.outer(T.exp(beta * df.counts), lambda0))\n",
    "    mu = pm.Deterministic(\"mu\", exposure * lambda_)\n",
    "\n",
    "    obs = pm.Poisson(\"obs\", mu, observed=death)"
   ]
  },
  {
   "cell_type": "markdown",
   "metadata": {},
   "source": [
    "n_samples = 100\n",
    "n_tune = 100"
   ]
  },
  {
   "cell_type": "markdown",
   "metadata": {},
   "source": [
    "with model:\n",
    "    trace = pm.sample(n_samples, tune=n_tune, random_seed=SEED)"
   ]
  },
  {
   "cell_type": "markdown",
   "metadata": {},
   "source": [
    "np.exp(trace[\"beta\"].mean())"
   ]
  },
  {
   "cell_type": "markdown",
   "metadata": {},
   "source": [
    "pm.plot_posterior(trace, var_names=[\"beta\"], color=\"#87ceeb\")"
   ]
  },
  {
   "cell_type": "markdown",
   "metadata": {},
   "source": [
    "## Modeling against wait times\n",
    "\n",
    "https://blog.datank.ai/a-quick-introduction-to-pymc3-and-bayesian-models-part-i-65419bdffcd8\n",
    "\n",
    "notes\n",
    "\n",
    "* build gerneative model for possible observations\n",
    "* build prior distribution for parameters of model\n",
    "\n",
    "exponential\n",
    "* memoryless\n",
    "* single parameter lamda"
   ]
  },
  {
   "cell_type": "code",
   "execution_count": 93,
   "metadata": {},
   "outputs": [],
   "source": [
    "# adding data\n",
    "# Adding data. Note the extra parameter “observed” in the wait_times definition.\n",
    "\n",
    "# We need to remove zeroes or we run into a bug!\n",
    "\n",
    "with pm.Model() as model:\n",
    "    rate_rate = 0.5\n",
    "    rate = pm.Exponential(\"rate\", rate_rate)\n",
    "    alpha_prior = 2\n",
    "    alpha = pm.Exponential(\"shape\", alpha_prior)\n",
    "    wait_times = pm.Gamma(\n",
    "        \"wait_times\", beta=rate, alpha=alpha, observed=sdf[\"album_delta\"].to_list()\n",
    "    )  # Right here!\n",
    "    next_wait_time = pm.Gamma(\"next_wait\", beta=rate, alpha=alpha)"
   ]
  },
  {
   "cell_type": "code",
   "execution_count": 94,
   "metadata": {},
   "outputs": [
    {
     "name": "stderr",
     "output_type": "stream",
     "text": [
      "INFO:pymc3:Multiprocess sampling (4 chains in 4 jobs)\n",
      "INFO:pymc3:CompoundStep\n",
      "INFO:pymc3:>Metropolis: [next_wait]\n",
      "INFO:pymc3:>Metropolis: [shape]\n",
      "INFO:pymc3:>Metropolis: [rate]\n",
      "Sampling 4 chains, 0 divergences: 100%|█████████████████████████████████████| 40000/40000 [00:24<00:00, 1647.18draws/s]\n",
      "WARNING:pymc3:The number of effective samples is smaller than 10% for some parameters.\n"
     ]
    }
   ],
   "source": [
    "with model:\n",
    "    step = pm.Metropolis()\n",
    "    trace = pm.sample(5000, step=step, tune=5000)"
   ]
  },
  {
   "cell_type": "code",
   "execution_count": 95,
   "metadata": {},
   "outputs": [
    {
     "name": "stderr",
     "output_type": "stream",
     "text": [
      "C:\\Users\\joe\\AppData\\Local\\Continuum\\anaconda3\\envs\\ds1\\lib\\site-packages\\arviz\\plots\\backends\\matplotlib\\distplot.py:38: UserWarning:\n",
      "\n",
      "Argument backend_kwargs has not effect in matplotlib.plot_distSupplied value won't be used\n",
      "\n",
      "C:\\Users\\joe\\AppData\\Local\\Continuum\\anaconda3\\envs\\ds1\\lib\\site-packages\\arviz\\plots\\backends\\matplotlib\\distplot.py:38: UserWarning:\n",
      "\n",
      "Argument backend_kwargs has not effect in matplotlib.plot_distSupplied value won't be used\n",
      "\n",
      "C:\\Users\\joe\\AppData\\Local\\Continuum\\anaconda3\\envs\\ds1\\lib\\site-packages\\arviz\\plots\\backends\\matplotlib\\distplot.py:38: UserWarning:\n",
      "\n",
      "Argument backend_kwargs has not effect in matplotlib.plot_distSupplied value won't be used\n",
      "\n"
     ]
    },
    {
     "data": {
      "text/plain": [
       "array([[<matplotlib.axes._subplots.AxesSubplot object at 0x000002A959D29F28>,\n",
       "        <matplotlib.axes._subplots.AxesSubplot object at 0x000002A959E3A550>],\n",
       "       [<matplotlib.axes._subplots.AxesSubplot object at 0x000002A959E69860>,\n",
       "        <matplotlib.axes._subplots.AxesSubplot object at 0x000002A95A0C1B70>],\n",
       "       [<matplotlib.axes._subplots.AxesSubplot object at 0x000002A95A0F7E48>,\n",
       "        <matplotlib.axes._subplots.AxesSubplot object at 0x000002A95B0F8E10>]],\n",
       "      dtype=object)"
      ]
     },
     "execution_count": 95,
     "metadata": {},
     "output_type": "execute_result"
    },
    {
     "data": {
      "image/png": "[encoded data removed]",
      "text/plain": [
       "<Figure size 864x432 with 6 Axes>"
      ]
     },
     "metadata": {},
     "output_type": "display_data"
    }
   ],
   "source": [
    "pm.plots.traceplot(trace)"
   ]
  },
  {
   "cell_type": "code",
   "execution_count": 96,
   "metadata": {},
   "outputs": [
    {
     "data": {
      "text/plain": [
       "(array([1002., 4874., 6119., 4249., 2227.,  942.,  380.,  148.,   36.,\n",
       "          23.]),\n",
       " array([0.00011228, 0.00137346, 0.00263463, 0.00389581, 0.00515698,\n",
       "        0.00641816, 0.00767933, 0.00894051, 0.01020168, 0.01146286,\n",
       "        0.01272404]),\n",
       " <a list of 10 Patch objects>)"
      ]
     },
     "execution_count": 96,
     "metadata": {},
     "output_type": "execute_result"
    },
    {
     "data": {
      "image/png": "[encoded data removed]",
      "text/plain": [
       "<Figure size 720x504 with 1 Axes>"
      ]
     },
     "metadata": {},
     "output_type": "display_data"
    }
   ],
   "source": [
    "# The posterior distribution for the rate parameter. It encodes the uncertainty about it after observing the data.\n",
    "\n",
    "plt.figure(figsize=(10, 7))\n",
    "plt.hist(trace.rate)"
   ]
  },
  {
   "cell_type": "code",
   "execution_count": 97,
   "metadata": {},
   "outputs": [
    {
     "data": {
      "text/plain": [
       "<matplotlib.axes._subplots.AxesSubplot at 0x2a959af0e48>"
      ]
     },
     "execution_count": 97,
     "metadata": {},
     "output_type": "execute_result"
    },
    {
     "data": {
      "image/png": "[encoded data removed]",
      "text/plain": [
       "<Figure size 576x396 with 1 Axes>"
      ]
     },
     "metadata": {},
     "output_type": "display_data"
    }
   ],
   "source": [
    "(pd.Series(trace[\"next_wait\"]) / 365).plot.hist()"
   ]
  },
  {
   "cell_type": "code",
   "execution_count": 98,
   "metadata": {},
   "outputs": [
    {
     "name": "stdout",
     "output_type": "stream",
     "text": [
      "Expected rate: 0.003725707409579661\n",
      "Probability between 0.15 and 0.158: 0.0\n",
      "Probability below 0.159: 1.0\n"
     ]
    }
   ],
   "source": [
    "# How to compute probabilities using the posterior samples.\n",
    "# We count the number of cases and divide by the total samples drawn.\n",
    "\n",
    "post_samples = pd.Series(trace[\"rate\"])\n",
    "\n",
    "print(\"Expected rate: {}\".format(post_samples.mean()))\n",
    "print(\n",
    "    \"Probability between 0.15 and 0.158: {}\".format(\n",
    "        post_samples.map(lambda x: x > 0.15 and x < 0.158).mean()\n",
    "    )\n",
    ")\n",
    "print(\n",
    "    \"Probability below 0.159: {}\".format(post_samples.map(lambda x: x < 0.159).mean())\n",
    ")"
   ]
  },
  {
   "cell_type": "code",
   "execution_count": 99,
   "metadata": {},
   "outputs": [
    {
     "name": "stderr",
     "output_type": "stream",
     "text": [
      "C:\\Users\\joe\\AppData\\Local\\Continuum\\anaconda3\\envs\\ds1\\lib\\site-packages\\ipykernel_launcher.py:1: DeprecationWarning:\n",
      "\n",
      "sample_ppc() is deprecated.  Please use sample_posterior_predictive()\n",
      "\n",
      "100%|██████████████████████████████████████████████████████████████████████████| 20000/20000 [00:09<00:00, 2097.12it/s]\n"
     ]
    }
   ],
   "source": [
    "posterior_samples = pm.sample_ppc(model=model, trace=trace, random_seed=4242)[\n",
    "    \"wait_times\"\n",
    "]"
   ]
  },
  {
   "cell_type": "code",
   "execution_count": 100,
   "metadata": {},
   "outputs": [
    {
     "data": {
      "text/plain": [
       "(160000,)"
      ]
     },
     "execution_count": 100,
     "metadata": {},
     "output_type": "execute_result"
    }
   ],
   "source": [
    "posterior_samples.shape = (posterior_samples.shape[0] * posterior_samples.shape[1],)\n",
    "posterior_samples = posterior_samples / 365\n",
    "posterior_samples.shape"
   ]
  },
  {
   "cell_type": "code",
   "execution_count": 101,
   "metadata": {},
   "outputs": [
    {
     "name": "stdout",
     "output_type": "stream",
     "text": [
      "1.6141072720194025\n",
      "0.0018875\n",
      "0.3875625\n"
     ]
    }
   ],
   "source": [
    "ps = pd.Series(posterior_samples)\n",
    "print(ps.mean())\n",
    "print((ps > 10).mean())\n",
    "print((ps < 1).mean())"
   ]
  },
  {
   "cell_type": "code",
   "execution_count": 102,
   "metadata": {},
   "outputs": [
    {
     "data": {
      "text/plain": [
       "<matplotlib.legend.Legend at 0x2a95515fbe0>"
      ]
     },
     "execution_count": 102,
     "metadata": {},
     "output_type": "execute_result"
    },
    {
     "data": {
      "image/png": "[encoded data removed]",
      "text/plain": [
       "<Figure size 576x396 with 1 Axes>"
      ]
     },
     "metadata": {},
     "output_type": "display_data"
    }
   ],
   "source": [
    "fig, ax = plt.subplots()\n",
    "ax.hist(posterior_samples, range=(0, 5), bins=30, density=True, label=\"simulated\")\n",
    "ax.hist(trace[\"next_wait\"], range=(0, 5), bins=30, density=True, label=\"next wait\")\n",
    "\n",
    "\n",
    "(sdf[\"album_delta\"] / 365).plot.hist(\n",
    "    density=True, ax=ax, alpha=0.5, title=\"Years Wait\", label=\"Observed\", legend=True\n",
    ")\n",
    "ax.legend([\"Simulated posterior\", \"Next wait\", \"Observed\"])\n",
    "# sns.kdeplot(sdf[\"album_delta\"] / 365, ax=ax)"
   ]
  },
  {
   "cell_type": "code",
   "execution_count": 103,
   "metadata": {},
   "outputs": [
    {
     "data": {
      "text/plain": [
       "array([<matplotlib.axes._subplots.AxesSubplot object at 0x000002A95538DF98>],\n",
       "      dtype=object)"
      ]
     },
     "execution_count": 103,
     "metadata": {},
     "output_type": "execute_result"
    },
    {
     "data": {
      "image/png": "[encoded data removed]",
      "text/plain": [
       "<Figure size 576x396 with 1 Axes>"
      ]
     },
     "metadata": {},
     "output_type": "display_data"
    },
    {
     "data": {
      "image/png": "[encoded data removed]",
      "text/plain": [
       "<Figure size 576x396 with 1 Axes>"
      ]
     },
     "metadata": {},
     "output_type": "display_data"
    }
   ],
   "source": [
    "posterior_samples = posterior_samples * 365\n",
    "pm.plots.kdeplot(posterior_samples, cumulative=True)\n",
    "pm.plots.densityplot(posterior_samples)"
   ]
  },
  {
   "cell_type": "code",
   "execution_count": 104,
   "metadata": {},
   "outputs": [
    {
     "name": "stderr",
     "output_type": "stream",
     "text": [
      "WARNING:arviz.stats.stats_utils:Shape validation failed: input_shape: (1, 20000), minimum_shape: (chains=2, draws=4)\n"
     ]
    }
   ],
   "source": [
    "stats = pm.stats.summary(trace[\"next_wait\"]).T.to_dict()[\"x\"]"
   ]
  },
  {
   "cell_type": "markdown",
   "metadata": {},
   "source": [
    "## Data Prediction"
   ]
  },
  {
   "cell_type": "code",
   "execution_count": 105,
   "metadata": {},
   "outputs": [
    {
     "name": "stderr",
     "output_type": "stream",
     "text": [
      "WARNING:arviz.stats.stats_utils:Shape validation failed: input_shape: (1, 20000), minimum_shape: (chains=2, draws=4)\n"
     ]
    },
    {
     "data": {
      "text/html": [
       "<div>\n",
       "<style scoped>\n",
       "    .dataframe tbody tr th:only-of-type {\n",
       "        vertical-align: middle;\n",
       "    }\n",
       "\n",
       "    .dataframe tbody tr th {\n",
       "        vertical-align: top;\n",
       "    }\n",
       "\n",
       "    .dataframe thead th {\n",
       "        text-align: right;\n",
       "    }\n",
       "</style>\n",
       "<table border=\"1\" class=\"dataframe\">\n",
       "  <thead>\n",
       "    <tr style=\"text-align: right;\">\n",
       "      <th></th>\n",
       "      <th>mean</th>\n",
       "      <th>sd</th>\n",
       "      <th>hpd_3%</th>\n",
       "      <th>hpd_97%</th>\n",
       "      <th>mcse_mean</th>\n",
       "      <th>mcse_sd</th>\n",
       "      <th>ess_mean</th>\n",
       "      <th>ess_sd</th>\n",
       "      <th>ess_bulk</th>\n",
       "      <th>ess_tail</th>\n",
       "      <th>r_hat</th>\n",
       "    </tr>\n",
       "  </thead>\n",
       "  <tbody>\n",
       "    <tr>\n",
       "      <th>x</th>\n",
       "      <td>576.31200</td>\n",
       "      <td>493.92100</td>\n",
       "      <td>0.11600</td>\n",
       "      <td>1398.73700</td>\n",
       "      <td>8.88400</td>\n",
       "      <td>6.57500</td>\n",
       "      <td>3091.00000</td>\n",
       "      <td>2822.00000</td>\n",
       "      <td>3242.00000</td>\n",
       "      <td>3314.00000</td>\n",
       "      <td>nan</td>\n",
       "    </tr>\n",
       "  </tbody>\n",
       "</table>\n",
       "</div>"
      ],
      "text/plain": [
       "       mean        sd  hpd_3%    hpd_97%  mcse_mean  mcse_sd   ess_mean  \\\n",
       "x 576.31200 493.92100 0.11600 1398.73700    8.88400  6.57500 3091.00000   \n",
       "\n",
       "      ess_sd   ess_bulk   ess_tail  r_hat  \n",
       "x 2822.00000 3242.00000 3314.00000    nan  "
      ]
     },
     "metadata": {},
     "output_type": "display_data"
    },
    {
     "name": "stderr",
     "output_type": "stream",
     "text": [
      "WARNING:arviz.stats.stats_utils:Shape validation failed: input_shape: (1, 20000), minimum_shape: (chains=2, draws=4)\n"
     ]
    },
    {
     "data": {
      "text/html": [
       "<div>\n",
       "<style scoped>\n",
       "    .dataframe tbody tr th:only-of-type {\n",
       "        vertical-align: middle;\n",
       "    }\n",
       "\n",
       "    .dataframe tbody tr th {\n",
       "        vertical-align: top;\n",
       "    }\n",
       "\n",
       "    .dataframe thead th {\n",
       "        text-align: right;\n",
       "    }\n",
       "</style>\n",
       "<table border=\"1\" class=\"dataframe\">\n",
       "  <thead>\n",
       "    <tr style=\"text-align: right;\">\n",
       "      <th></th>\n",
       "      <th>mean</th>\n",
       "      <th>sd</th>\n",
       "      <th>hpd_3%</th>\n",
       "      <th>hpd_97%</th>\n",
       "      <th>mcse_mean</th>\n",
       "      <th>mcse_sd</th>\n",
       "      <th>ess_mean</th>\n",
       "      <th>ess_sd</th>\n",
       "      <th>ess_bulk</th>\n",
       "      <th>ess_tail</th>\n",
       "      <th>r_hat</th>\n",
       "    </tr>\n",
       "  </thead>\n",
       "  <tbody>\n",
       "    <tr>\n",
       "      <th>x</th>\n",
       "      <td>1.57900</td>\n",
       "      <td>1.35300</td>\n",
       "      <td>0.00000</td>\n",
       "      <td>3.83200</td>\n",
       "      <td>0.02400</td>\n",
       "      <td>0.01800</td>\n",
       "      <td>3091.00000</td>\n",
       "      <td>2822.00000</td>\n",
       "      <td>3242.00000</td>\n",
       "      <td>3314.00000</td>\n",
       "      <td>nan</td>\n",
       "    </tr>\n",
       "  </tbody>\n",
       "</table>\n",
       "</div>"
      ],
      "text/plain": [
       "     mean      sd  hpd_3%  hpd_97%  mcse_mean  mcse_sd   ess_mean     ess_sd  \\\n",
       "x 1.57900 1.35300 0.00000  3.83200    0.02400  0.01800 3091.00000 2822.00000   \n",
       "\n",
       "    ess_bulk   ess_tail  r_hat  \n",
       "x 3242.00000 3314.00000    nan  "
      ]
     },
     "metadata": {},
     "output_type": "display_data"
    }
   ],
   "source": [
    "display(pm.stats.summary(trace[\"next_wait\"]))\n",
    "display(pm.stats.summary(trace[\"next_wait\"] / 365))"
   ]
  },
  {
   "cell_type": "code",
   "execution_count": 106,
   "metadata": {},
   "outputs": [
    {
     "data": {
      "text/plain": [
       "array([<matplotlib.axes._subplots.AxesSubplot object at 0x000002A955A4C438>],\n",
       "      dtype=object)"
      ]
     },
     "execution_count": 106,
     "metadata": {},
     "output_type": "execute_result"
    },
    {
     "data": {
      "image/png": "[encoded data removed]",
      "text/plain": [
       "<Figure size 576x396 with 1 Axes>"
      ]
     },
     "metadata": {},
     "output_type": "display_data"
    }
   ],
   "source": [
    "pm.plots.plot_posterior(trace[\"next_wait\"])"
   ]
  },
  {
   "cell_type": "code",
   "execution_count": 107,
   "metadata": {},
   "outputs": [
    {
     "name": "stdout",
     "output_type": "stream",
     "text": [
      "expected wait until next album:  314.3118241123768\n",
      "expected wait in months:  10.477060803745895\n",
      "but could be up to  1136.737  days /  37.89123333333334  months /  3.1143479452054796  years.\n"
     ]
    }
   ],
   "source": [
    "print(\"expected wait until next album: \", (trace[\"next_wait\"]).mean() - current_days)\n",
    "print(\"expected wait in months: \", ((trace[\"next_wait\"]).mean() - current_days) / 30)\n",
    "print(\n",
    "    \"but could be up to \",\n",
    "    stats[\"hpd_97%\"] - current_days,\n",
    "    \" days / \",\n",
    "    (stats[\"hpd_97%\"] - current_days) / 30,\n",
    "    \" months / \",\n",
    "    (stats[\"hpd_97%\"] - current_days) / 365,\n",
    "    \" years.\",\n",
    ")"
   ]
  },
  {
   "cell_type": "code",
   "execution_count": null,
   "metadata": {},
   "outputs": [],
   "source": []
  }
 ],
 "metadata": {
  "kernelspec": {
   "display_name": "Python 3",
   "language": "python",
   "name": "python3"
  },
  "language_info": {
   "codemirror_mode": {
    "name": "ipython",
    "version": 3
   },
   "file_extension": ".py",
   "mimetype": "text/x-python",
   "name": "python",
   "nbconvert_exporter": "python",
   "pygments_lexer": "ipython3",
   "version": "3.6.10"
  }
 },
 "nbformat": 4,
 "nbformat_minor": 4
}
